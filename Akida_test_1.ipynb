{
 "cells": [
  {
   "cell_type": "code",
   "execution_count": 1,
   "metadata": {},
   "outputs": [
    {
     "name": "stdout",
     "output_type": "stream",
     "text": [
      "Downloading data from https://storage.googleapis.com/tensorflow/tf-keras-datasets/mnist.npz\n",
      "11490434/11490434 [==============================] - 3s 0us/step\n"
     ]
    },
    {
     "data": {
      "image/png": "[encoded data removed]",
      "text/plain": [
       "<Figure size 640x480 with 4 Axes>"
      ]
     },
     "metadata": {},
     "output_type": "display_data"
    }
   ],
   "source": [
    "#import subprocess\n",
    "#import sys\n",
    "#\n",
    "#def install(package):\n",
    "#    subprocess.check_call([sys.executable,\"-m\",\"pip\",\"install\",package])\n",
    "#\n",
    "#\n",
    "#install('numpy')\n",
    "#install('keras')\n",
    "\n",
    "\n",
    "import numpy as np\n",
    "\n",
    "import matplotlib.cm as cm\n",
    "import matplotlib.pyplot as plt\n",
    "\n",
    "from keras.datasets import mnist\n",
    "\n",
    "# Load MNIST dataset\n",
    "(x_train, y_train), (x_test, y_test) = mnist.load_data()\n",
    "\n",
    "# Add a channels dimension to the image sets as Akida expects 4-D inputs (corresponding to\n",
    "# (num_samples, width, height, channels). Note: MNIST is a grayscale dataset and is unusual\n",
    "# in this respect - most image data already includes a channel dimension, and this step will\n",
    "# not be necessary.\n",
    "x_train = np.expand_dims(x_train, -1)\n",
    "x_test = np.expand_dims(x_test, -1)\n",
    "\n",
    "# Display a few images from the test set\n",
    "f, axarr = plt.subplots(1, 4)\n",
    "for i in range(0, 4):\n",
    "    axarr[i].imshow(x_test[i].reshape((28, 28)), cmap=cm.Greys_r)\n",
    "    axarr[i].set_title('Class %d' % y_test[i])\n",
    "plt.show()"
   ]
  },
  {
   "cell_type": "code",
   "execution_count": 2,
   "metadata": {},
   "outputs": [],
   "source": [
    "import keras\n",
    "\n",
    "#creating the multlayer CNN, which will then be converted to a SNN.\n",
    "model_keras = keras.models.Sequential([\n",
    "    keras.layers.Rescaling(1. / 255, input_shape=(28, 28, 1)),\n",
    "    keras.layers.Conv2D(filters=32, kernel_size=3, strides=2),\n",
    "    keras.layers.BatchNormalization(),\n",
    "    keras.layers.ReLU(),\n",
    "    # Separable layer\n",
    "    keras.layers.DepthwiseConv2D(kernel_size=3, padding='same', strides=2),\n",
    "    keras.layers.Conv2D(filters=64, kernel_size=1, padding='same'),\n",
    "    keras.layers.BatchNormalization(),\n",
    "    keras.layers.ReLU(),\n",
    "    keras.layers.Flatten(),\n",
    "    keras.layers.Dense(10)\n",
    "], 'mnistnet')"
   ]
  },
  {
   "cell_type": "code",
   "execution_count": 3,
   "metadata": {},
   "outputs": [
    {
     "name": "stdout",
     "output_type": "stream",
     "text": [
      "Model: \"mnistnet\"\n",
      "_________________________________________________________________\n",
      " Layer (type)                Output Shape              Param #   \n",
      "=================================================================\n",
      " rescaling (Rescaling)       (None, 28, 28, 1)         0         \n",
      "                                                                 \n",
      " conv2d (Conv2D)             (None, 13, 13, 32)        320       \n",
      "                                                                 \n",
      " batch_normalization (BatchN  (None, 13, 13, 32)       128       \n",
      " ormalization)                                                   \n",
      "                                                                 \n",
      " re_lu (ReLU)                (None, 13, 13, 32)        0         \n",
      "                                                                 \n",
      " depthwise_conv2d (Depthwise  (None, 7, 7, 32)         320       \n",
      " Conv2D)                                                         \n",
      "                                                                 \n",
      " conv2d_1 (Conv2D)           (None, 7, 7, 64)          2112      \n",
      "                                                                 \n",
      " batch_normalization_1 (Batc  (None, 7, 7, 64)         256       \n",
      " hNormalization)                                                 \n",
      "                                                                 \n",
      " re_lu_1 (ReLU)              (None, 7, 7, 64)          0         \n",
      "                                                                 \n",
      " flatten (Flatten)           (None, 3136)              0         \n",
      "                                                                 \n",
      " dense (Dense)               (None, 10)                31370     \n",
      "                                                                 \n",
      "=================================================================\n",
      "Total params: 34,506\n",
      "Trainable params: 34,314\n",
      "Non-trainable params: 192\n",
      "_________________________________________________________________\n"
     ]
    }
   ],
   "source": [
    "model_keras.summary()"
   ]
  },
  {
   "cell_type": "code",
   "execution_count": 4,
   "metadata": {},
   "outputs": [
    {
     "name": "stdout",
     "output_type": "stream",
     "text": [
      "Epoch 1/10\n",
      "1688/1688 [==============================] - 8s 4ms/step - loss: 0.1697 - accuracy: 0.9481 - val_loss: 0.0718 - val_accuracy: 0.9828\n",
      "Epoch 2/10\n",
      "1688/1688 [==============================] - 7s 4ms/step - loss: 0.0699 - accuracy: 0.9784 - val_loss: 0.0753 - val_accuracy: 0.9792\n",
      "Epoch 3/10\n",
      "1688/1688 [==============================] - 7s 4ms/step - loss: 0.0496 - accuracy: 0.9838 - val_loss: 0.0550 - val_accuracy: 0.9863\n",
      "Epoch 4/10\n",
      "1688/1688 [==============================] - 7s 4ms/step - loss: 0.0407 - accuracy: 0.9869 - val_loss: 0.0693 - val_accuracy: 0.9810\n",
      "Epoch 5/10\n",
      "1688/1688 [==============================] - 7s 4ms/step - loss: 0.0328 - accuracy: 0.9893 - val_loss: 0.0730 - val_accuracy: 0.9818\n",
      "Epoch 6/10\n",
      "1688/1688 [==============================] - 7s 4ms/step - loss: 0.0271 - accuracy: 0.9909 - val_loss: 0.0756 - val_accuracy: 0.9818\n",
      "Epoch 7/10\n",
      "1688/1688 [==============================] - 7s 4ms/step - loss: 0.0228 - accuracy: 0.9923 - val_loss: 0.0746 - val_accuracy: 0.9822\n",
      "Epoch 8/10\n",
      "1688/1688 [==============================] - 7s 4ms/step - loss: 0.0211 - accuracy: 0.9929 - val_loss: 0.0595 - val_accuracy: 0.9867\n",
      "Epoch 9/10\n",
      "1688/1688 [==============================] - 7s 4ms/step - loss: 0.0171 - accuracy: 0.9947 - val_loss: 0.0623 - val_accuracy: 0.9862\n",
      "Epoch 10/10\n",
      "1688/1688 [==============================] - 7s 4ms/step - loss: 0.0161 - accuracy: 0.9946 - val_loss: 0.0641 - val_accuracy: 0.9845\n"
     ]
    }
   ],
   "source": [
    "from keras.optimizers import Adam\n",
    "#optimizes the algorithm to attain convergence. changing the learning rate\n",
    "model_keras.compile(\n",
    "    loss=keras.losses.SparseCategoricalCrossentropy(from_logits=True),\n",
    "    optimizer=Adam(learning_rate=1e-3),\n",
    "    metrics=['accuracy'])\n",
    "\n",
    "_ = model_keras.fit(x_train, y_train, epochs=10, validation_split=0.1)"
   ]
  },
  {
   "cell_type": "code",
   "execution_count": 5,
   "metadata": {},
   "outputs": [
    {
     "name": "stderr",
     "output_type": "stream",
     "text": [
      "C:\\Users\\msaad\\AppData\\Roaming\\Python\\Python38\\site-packages\\quantizeml\\models\\quantize.py:449: UserWarning: Quantizing per-axis with random calibration samples is not accurate.                       Set QuantizationParams.per_tensor_activations=True when calibrating with                        random samples.\n",
      "  warnings.warn(\"Quantizing per-axis with random calibration samples is not accurate.\\\n"
     ]
    },
    {
     "name": "stdout",
     "output_type": "stream",
     "text": [
      "1024/1024 [==============================] - 1s 653us/step\n",
      "Model: \"mnistnet\"\n",
      "_________________________________________________________________\n",
      " Layer (type)                Output Shape              Param #   \n",
      "=================================================================\n",
      " rescaling_input (InputLayer  [(None, 28, 28, 1)]      0         \n",
      " )                                                               \n",
      "                                                                 \n",
      " rescaling (QuantizedRescali  (None, 28, 28, 1)        0         \n",
      " ng)                                                             \n",
      "                                                                 \n",
      " conv2d (QuantizedConv2D)    (None, 13, 13, 32)        320       \n",
      "                                                                 \n",
      " re_lu (QuantizedReLU)       (None, 13, 13, 32)        64        \n",
      "                                                                 \n",
      " depthwise_conv2d (Quantized  (None, 7, 7, 32)         384       \n",
      " DepthwiseConv2D)                                                \n",
      "                                                                 \n",
      " conv2d_1 (QuantizedConv2D)  (None, 7, 7, 64)          2112      \n",
      "                                                                 \n",
      " re_lu_1 (QuantizedReLU)     (None, 7, 7, 64)          128       \n",
      "                                                                 \n",
      " flatten (QuantizedFlatten)  (None, 3136)              0         \n",
      "                                                                 \n",
      " dense (QuantizedDense)      (None, 10)                31370     \n",
      "                                                                 \n",
      " dequantizer (Dequantizer)   (None, 10)                0         \n",
      "                                                                 \n",
      "=================================================================\n",
      "Total params: 34,378\n",
      "Trainable params: 34,122\n",
      "Non-trainable params: 256\n",
      "_________________________________________________________________\n"
     ]
    }
   ],
   "source": [
    "#import subprocess\n",
    "#import sys\n",
    "#\n",
    "#def install(package):\n",
    "#    subprocess.check_call([sys.executable,\"-m\",\"pip\",\"install\",package])\n",
    "#\n",
    "#install('quantizeml')\n",
    "\n",
    "from quantizeml.models import quantize, QuantizationParams\n",
    "\n",
    "\n",
    "qparams = QuantizationParams(input_weight_bits=2, weight_bits=2, activation_bits=2)\n",
    "model_quantized = quantize(model_keras, qparams=qparams)\n",
    "model_quantized.summary()"
   ]
  },
  {
   "cell_type": "code",
   "execution_count": null,
   "metadata": {},
   "outputs": [],
   "source": []
  }
 ],
 "metadata": {
  "kernelspec": {
   "display_name": "Dissertation_Environment1",
   "language": "python",
   "name": "python3"
  },
  "language_info": {
   "codemirror_mode": {
    "name": "ipython",
    "version": 3
   },
   "file_extension": ".py",
   "mimetype": "text/x-python",
   "name": "python",
   "nbconvert_exporter": "python",
   "pygments_lexer": "ipython3",
   "version": "3.8.19"
  }
 },
 "nbformat": 4,
 "nbformat_minor": 2
}
