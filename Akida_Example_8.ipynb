{
 "cells": [
  {
   "cell_type": "code",
   "execution_count": 7,
   "metadata": {},
   "outputs": [],
   "source": [
    "from quantizeml.models import QuantizationParams\n",
    "\n",
    "qparams = QuantizationParams(input_weight_bits=8, weight_bits=8, activation_bits=8,\n",
    "                             per_tensor_activations=False, output_bits=8, buffer_bits=32)"
   ]
  },
  {
   "cell_type": "code",
   "execution_count": 8,
   "metadata": {},
   "outputs": [
    {
     "name": "stdout",
     "output_type": "stream",
     "text": [
      "1024/1024 [==============================] - 1s 648us/step\n",
      "Model: \"model_1\"\n",
      "_________________________________________________________________\n",
      " Layer (type)                Output Shape              Param #   \n",
      "=================================================================\n",
      " input_2 (InputLayer)        [(None, 28, 28, 3)]       0         \n",
      "                                                                 \n",
      " dw_conv (QuantizedDepthwise  (None, 26, 26, 3)        32        \n",
      " Conv2D)                                                         \n",
      "                                                                 \n",
      " pw_conv (QuantizedConv2D)   (None, 26, 26, 32)        128       \n",
      "                                                                 \n",
      " relu (QuantizedReLU)        (None, 26, 26, 32)        2         \n",
      "                                                                 \n",
      " dense (QuantizedDense)      (None, 26, 26, 10)        330       \n",
      "                                                                 \n",
      " dequantizer_2 (Dequantizer)  (None, 26, 26, 10)       0         \n",
      "                                                                 \n",
      "=================================================================\n",
      "Total params: 492\n",
      "Trainable params: 488\n",
      "Non-trainable params: 4\n",
      "_________________________________________________________________\n"
     ]
    }
   ],
   "source": [
    "import keras\n",
    "import json\n",
    "from quantizeml.models import quantize, dump_config, QuantizationParams\n",
    "\n",
    "# Define an example model with few layers to keep what follows readable\n",
    "input = keras.layers.Input((28, 28, 3))\n",
    "x = keras.layers.DepthwiseConv2D(kernel_size=3, name=\"dw_conv\")(input)\n",
    "x = keras.layers.Conv2D(filters=32, kernel_size=1, name=\"pw_conv\")(x)\n",
    "x = keras.layers.ReLU(name=\"relu\")(x)\n",
    "x = keras.layers.Dense(units=10, name=\"dense\")(x)\n",
    "\n",
    "model = keras.Model(input, x)\n",
    "\n",
    "# Define QuantizationParams with specific values just for the sake of understanding the JSON\n",
    "# configuration that follows.\n",
    "qparams = QuantizationParams(input_weight_bits=16, weight_bits=4, activation_bits=6, output_bits=12,\n",
    "                             per_tensor_activations=True, buffer_bits=24)\n",
    "\n",
    "# Quantize the model\n",
    "quantized_model = quantize(model, qparams=qparams)\n",
    "quantized_model.summary()"
   ]
  },
  {
   "cell_type": "code",
   "execution_count": 9,
   "metadata": {},
   "outputs": [
    {
     "name": "stdout",
     "output_type": "stream",
     "text": [
      "{\n",
      "    \"dw_conv\": {\n",
      "        \"output_quantizer\": {\n",
      "            \"bitwidth\": 12,\n",
      "            \"axis\": \"per-tensor\"\n",
      "        },\n",
      "        \"weight_quantizer\": {\n",
      "            \"bitwidth\": 16,\n",
      "            \"axis\": -2\n",
      "        },\n",
      "        \"buffer_bitwidth\": 24\n",
      "    },\n",
      "    \"pw_conv\": {\n",
      "        \"weight_quantizer\": {\n",
      "            \"bitwidth\": 4\n",
      "        },\n",
      "        \"buffer_bitwidth\": 24\n",
      "    },\n",
      "    \"relu\": {\n",
      "        \"output_quantizer\": {\n",
      "            \"bitwidth\": 6,\n",
      "            \"signed\": false,\n",
      "            \"axis\": \"per-tensor\"\n",
      "        },\n",
      "        \"buffer_bitwidth\": 24\n",
      "    },\n",
      "    \"dense\": {\n",
      "        \"weight_quantizer\": {\n",
      "            \"bitwidth\": 4\n",
      "        },\n",
      "        \"buffer_bitwidth\": 24\n",
      "    }\n",
      "}\n"
     ]
    }
   ],
   "source": [
    "# Dump the configuration\n",
    "config = dump_config(quantized_model)\n",
    "\n",
    "# Display in a JSON format for readability\n",
    "print(json.dumps(config, indent=4))"
   ]
  },
  {
   "cell_type": "code",
   "execution_count": 10,
   "metadata": {},
   "outputs": [
    {
     "name": "stdout",
     "output_type": "stream",
     "text": [
      "{\n",
      "    \"relu\": {\n",
      "        \"output_quantizer\": {\n",
      "            \"bitwidth\": 1,\n",
      "            \"signed\": false,\n",
      "            \"axis\": \"per-axis\"\n",
      "        },\n",
      "        \"buffer_bitwidth\": 32\n",
      "    }\n",
      "}\n"
     ]
    }
   ],
   "source": [
    "# Edit the ReLU activation configuration\n",
    "config[\"relu\"][\"output_quantizer\"]['bitwidth'] = 1\n",
    "config[\"relu\"][\"output_quantizer\"]['axis'] = 'per-axis'\n",
    "config[\"relu\"]['buffer_bitwidth'] = 32\n",
    "\n",
    "# Drop other layers configurations\n",
    "del config['dw_conv']\n",
    "del config['pw_conv']\n",
    "del config['dense']\n",
    "\n",
    "# The configuration is now limited to the ReLU activation\n",
    "print(json.dumps(config, indent=4))"
   ]
  },
  {
   "cell_type": "code",
   "execution_count": 13,
   "metadata": {},
   "outputs": [
    {
     "name": "stdout",
     "output_type": "stream",
     "text": [
      "1024/1024 [==============================] - 1s 660us/step\n",
      "{\n",
      "    \"dw_conv\": {\n",
      "        \"output_quantizer\": {\n",
      "            \"bitwidth\": 12,\n",
      "            \"axis\": \"per-tensor\"\n",
      "        },\n",
      "        \"weight_quantizer\": {\n",
      "            \"bitwidth\": 16,\n",
      "            \"axis\": -2\n",
      "        },\n",
      "        \"buffer_bitwidth\": 24\n",
      "    },\n",
      "    \"pw_conv\": {\n",
      "        \"weight_quantizer\": {\n",
      "            \"bitwidth\": 4\n",
      "        },\n",
      "        \"buffer_bitwidth\": 24\n",
      "    },\n",
      "    \"relu\": {\n",
      "        \"output_quantizer\": {\n",
      "            \"bitwidth\": 1,\n",
      "            \"signed\": false,\n",
      "            \"axis\": \"per-axis\"\n",
      "        },\n",
      "        \"buffer_bitwidth\": 32\n",
      "    },\n",
      "    \"dense\": {\n",
      "        \"weight_quantizer\": {\n",
      "            \"bitwidth\": 4\n",
      "        },\n",
      "        \"buffer_bitwidth\": 24\n",
      "    }\n",
      "}\n"
     ]
    }
   ],
   "source": [
    "new_quantized_model = quantize(model, q_config=config, qparams=qparams)\n",
    "\n",
    "# Dump the new configuration\n",
    "new_config = dump_config(new_quantized_model)\n",
    "\n",
    "# Display in a JSON format for readability\n",
    "print(json.dumps(new_config, indent=4))"
   ]
  },
  {
   "cell_type": "code",
   "execution_count": 14,
   "metadata": {},
   "outputs": [
    {
     "ename": "NameError",
     "evalue": "name 'reduce_max' is not defined",
     "output_type": "error",
     "traceback": [
      "\u001b[1;31m---------------------------------------------------------------------------\u001b[0m",
      "\u001b[1;31mNameError\u001b[0m                                 Traceback (most recent call last)",
      "Cell \u001b[1;32mIn[14], line 1\u001b[0m\n\u001b[1;32m----> 1\u001b[0m samples_max \u001b[38;5;241m=\u001b[39m \u001b[43mreduce_max\u001b[49m(samples)\n\u001b[0;32m      2\u001b[0m delta \u001b[38;5;241m=\u001b[39m previous_range_max \u001b[38;5;241m-\u001b[39m new_range_max \u001b[38;5;241m*\u001b[39m (\u001b[38;5;241m1\u001b[39m \u001b[38;5;241m-\u001b[39m momentum)\n\u001b[0;32m      3\u001b[0m new_range_max \u001b[38;5;241m=\u001b[39m previous_range_max \u001b[38;5;241m-\u001b[39m delta\n",
      "\u001b[1;31mNameError\u001b[0m: name 'reduce_max' is not defined"
     ]
    }
   ],
   "source": [
    "samples_max = reduce_max(samples)\n",
    "delta = previous_range_max - new_range_max * (1 - momentum)\n",
    "new_range_max = previous_range_max - delta"
   ]
  },
  {
   "cell_type": "code",
   "execution_count": 15,
   "metadata": {},
   "outputs": [
    {
     "ename": "NameError",
     "evalue": "name 'batch_size' is not defined",
     "output_type": "error",
     "traceback": [
      "\u001b[1;31m---------------------------------------------------------------------------\u001b[0m",
      "\u001b[1;31mNameError\u001b[0m                                 Traceback (most recent call last)",
      "Cell \u001b[1;32mIn[15], line 1\u001b[0m\n\u001b[1;32m----> 1\u001b[0m \u001b[38;5;28;01mif\u001b[39;00m \u001b[43mbatch_size\u001b[49m \u001b[38;5;129;01mis\u001b[39;00m \u001b[38;5;28;01mNone\u001b[39;00m:\n\u001b[0;32m      2\u001b[0m     steps \u001b[38;5;241m=\u001b[39m num_samples\n\u001b[0;32m      3\u001b[0m \u001b[38;5;28;01melse\u001b[39;00m:\n",
      "\u001b[1;31mNameError\u001b[0m: name 'batch_size' is not defined"
     ]
    }
   ],
   "source": [
    "if batch_size is None:\n",
    "    steps = num_samples\n",
    "else:\n",
    "    steps = np.ceil(num_samples / batch_size)"
   ]
  }
 ],
 "metadata": {
  "kernelspec": {
   "display_name": "Dissertation_Environment2",
   "language": "python",
   "name": "python3"
  },
  "language_info": {
   "codemirror_mode": {
    "name": "ipython",
    "version": 3
   },
   "file_extension": ".py",
   "mimetype": "text/x-python",
   "name": "python",
   "nbconvert_exporter": "python",
   "pygments_lexer": "ipython3",
   "version": "3.8.19"
  }
 },
 "nbformat": 4,
 "nbformat_minor": 2
}
