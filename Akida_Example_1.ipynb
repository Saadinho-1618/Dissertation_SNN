{
 "cells": [
  {
   "cell_type": "code",
   "execution_count": 1,
   "metadata": {},
   "outputs": [
    {
     "data": {
      "image/png": "[encoded data removed]",
      "text/plain": [
       "<Figure size 640x480 with 4 Axes>"
      ]
     },
     "metadata": {},
     "output_type": "display_data"
    }
   ],
   "source": [
    "import numpy as np\n",
    "import matplotlib.cm as cm\n",
    "import matplotlib.pyplot as plt\n",
    "\n",
    "from keras.datasets import mnist\n",
    "\n",
    "# Load MNIST dataset\n",
    "(x_train, y_train), (x_test, y_test) = mnist.load_data()\n",
    "\n",
    "# Add a channels dimension to the image sets as Akida expects 4-D inputs (corresponding to\n",
    "# (num_samples, width, height, channels). Note: MNIST is a grayscale dataset and is unusual\n",
    "# in this respect - most image data already includes a channel dimension, and this step will\n",
    "# not be necessary.\n",
    "x_train = np.expand_dims(x_train, -1)\n",
    "x_test = np.expand_dims(x_test, -1)\n",
    "\n",
    "# Display a few images from the test set\n",
    "f, axarr = plt.subplots(1, 4)\n",
    "for i in range(0, 4):\n",
    "    axarr[i].imshow(x_test[i].reshape((28, 28)), cmap=cm.Greys_r)\n",
    "    axarr[i].set_title('Class %d' % y_test[i])\n",
    "plt.show()"
   ]
  },
  {
   "cell_type": "code",
   "execution_count": 2,
   "metadata": {},
   "outputs": [
    {
     "name": "stdout",
     "output_type": "stream",
     "text": [
      "Model: \"mnistnet\"\n",
      "_________________________________________________________________\n",
      " Layer (type)                Output Shape              Param #   \n",
      "=================================================================\n",
      " rescaling (Rescaling)       (None, 28, 28, 1)         0         \n",
      "                                                                 \n",
      " conv2d (Conv2D)             (None, 13, 13, 32)        320       \n",
      "                                                                 \n",
      " batch_normalization (BatchN  (None, 13, 13, 32)       128       \n",
      " ormalization)                                                   \n",
      "                                                                 \n",
      " re_lu (ReLU)                (None, 13, 13, 32)        0         \n",
      "                                                                 \n",
      " depthwise_conv2d (Depthwise  (None, 7, 7, 32)         320       \n",
      " Conv2D)                                                         \n",
      "                                                                 \n",
      " conv2d_1 (Conv2D)           (None, 7, 7, 64)          2112      \n",
      "                                                                 \n",
      " batch_normalization_1 (Batc  (None, 7, 7, 64)         256       \n",
      " hNormalization)                                                 \n",
      "                                                                 \n",
      " re_lu_1 (ReLU)              (None, 7, 7, 64)          0         \n",
      "                                                                 \n",
      " flatten (Flatten)           (None, 3136)              0         \n",
      "                                                                 \n",
      " dense (Dense)               (None, 10)                31370     \n",
      "                                                                 \n",
      "=================================================================\n",
      "Total params: 34,506\n",
      "Trainable params: 34,314\n",
      "Non-trainable params: 192\n",
      "_________________________________________________________________\n"
     ]
    }
   ],
   "source": [
    "import keras\n",
    "\n",
    "#creating the multlayer CNN, which will then be converted to a SNN.\n",
    "model_keras = keras.models.Sequential([\n",
    "    keras.layers.Rescaling(1. / 255, input_shape=(28, 28, 1)),\n",
    "    keras.layers.Conv2D(filters=32, kernel_size=3, strides=2),\n",
    "    keras.layers.BatchNormalization(),\n",
    "    keras.layers.ReLU(),\n",
    "    # Separable layer\n",
    "    keras.layers.DepthwiseConv2D(kernel_size=3, padding='same', strides=2),\n",
    "    keras.layers.Conv2D(filters=64, kernel_size=1, padding='same'),\n",
    "    keras.layers.BatchNormalization(),\n",
    "    keras.layers.ReLU(),\n",
    "    keras.layers.Flatten(),\n",
    "    keras.layers.Dense(10)\n",
    "], 'mnistnet')\n",
    "\n",
    "model_keras.summary()"
   ]
  },
  {
   "cell_type": "code",
   "execution_count": 3,
   "metadata": {},
   "outputs": [
    {
     "name": "stdout",
     "output_type": "stream",
     "text": [
      "Epoch 1/10\n",
      "1688/1688 [==============================] - 8s 4ms/step - loss: 0.1766 - accuracy: 0.9472 - val_loss: 0.0769 - val_accuracy: 0.9773\n",
      "Epoch 2/10\n",
      "1688/1688 [==============================] - 7s 4ms/step - loss: 0.0714 - accuracy: 0.9775 - val_loss: 0.0730 - val_accuracy: 0.9805\n",
      "Epoch 3/10\n",
      "1688/1688 [==============================] - 7s 4ms/step - loss: 0.0529 - accuracy: 0.9837 - val_loss: 0.0555 - val_accuracy: 0.9863\n",
      "Epoch 4/10\n",
      "1688/1688 [==============================] - 7s 4ms/step - loss: 0.0429 - accuracy: 0.9862 - val_loss: 0.0540 - val_accuracy: 0.9845\n",
      "Epoch 5/10\n",
      "1688/1688 [==============================] - 7s 4ms/step - loss: 0.0337 - accuracy: 0.9898 - val_loss: 0.0507 - val_accuracy: 0.9857\n",
      "Epoch 6/10\n",
      "1688/1688 [==============================] - 7s 4ms/step - loss: 0.0294 - accuracy: 0.9908 - val_loss: 0.0594 - val_accuracy: 0.9837\n",
      "Epoch 7/10\n",
      "1688/1688 [==============================] - 7s 4ms/step - loss: 0.0227 - accuracy: 0.9923 - val_loss: 0.0510 - val_accuracy: 0.9863\n",
      "Epoch 8/10\n",
      "1688/1688 [==============================] - 7s 4ms/step - loss: 0.0203 - accuracy: 0.9929 - val_loss: 0.0614 - val_accuracy: 0.9852\n",
      "Epoch 9/10\n",
      "1688/1688 [==============================] - 7s 4ms/step - loss: 0.0182 - accuracy: 0.9941 - val_loss: 0.0603 - val_accuracy: 0.9833\n",
      "Epoch 10/10\n",
      "1688/1688 [==============================] - 7s 4ms/step - loss: 0.0164 - accuracy: 0.9944 - val_loss: 0.0571 - val_accuracy: 0.9848\n"
     ]
    }
   ],
   "source": [
    "from keras.optimizers import Adam\n",
    "#optimizes the algorithm to attain convergence. changing the learning rate\n",
    "model_keras.compile(\n",
    "    loss=keras.losses.SparseCategoricalCrossentropy(from_logits=True),\n",
    "    optimizer=Adam(learning_rate=1e-3),\n",
    "    metrics=['accuracy'])\n",
    "\n",
    "_ = model_keras.fit(x_train, y_train, epochs=10, validation_split=0.1)"
   ]
  },
  {
   "cell_type": "code",
   "execution_count": 4,
   "metadata": {},
   "outputs": [
    {
     "name": "stderr",
     "output_type": "stream",
     "text": [
      "C:\\Users\\msaad\\AppData\\Roaming\\Python\\Python38\\site-packages\\quantizeml\\models\\quantize.py:449: UserWarning: Quantizing per-axis with random calibration samples is not accurate.                       Set QuantizationParams.per_tensor_activations=True when calibrating with                        random samples.\n",
      "  warnings.warn(\"Quantizing per-axis with random calibration samples is not accurate.\\\n"
     ]
    },
    {
     "name": "stdout",
     "output_type": "stream",
     "text": [
      "1024/1024 [==============================] - 1s 647us/step\n",
      "Model: \"mnistnet\"\n",
      "_________________________________________________________________\n",
      " Layer (type)                Output Shape              Param #   \n",
      "=================================================================\n",
      " rescaling_input (InputLayer  [(None, 28, 28, 1)]      0         \n",
      " )                                                               \n",
      "                                                                 \n",
      " rescaling (QuantizedRescali  (None, 28, 28, 1)        0         \n",
      " ng)                                                             \n",
      "                                                                 \n",
      " conv2d (QuantizedConv2D)    (None, 13, 13, 32)        320       \n",
      "                                                                 \n",
      " re_lu (QuantizedReLU)       (None, 13, 13, 32)        64        \n",
      "                                                                 \n",
      " depthwise_conv2d (Quantized  (None, 7, 7, 32)         384       \n",
      " DepthwiseConv2D)                                                \n",
      "                                                                 \n",
      " conv2d_1 (QuantizedConv2D)  (None, 7, 7, 64)          2112      \n",
      "                                                                 \n",
      " re_lu_1 (QuantizedReLU)     (None, 7, 7, 64)          128       \n",
      "                                                                 \n",
      " flatten (QuantizedFlatten)  (None, 3136)              0         \n",
      "                                                                 \n",
      " dense (QuantizedDense)      (None, 10)                31370     \n",
      "                                                                 \n",
      " dequantizer (Dequantizer)   (None, 10)                0         \n",
      "                                                                 \n",
      "=================================================================\n",
      "Total params: 34,378\n",
      "Trainable params: 34,122\n",
      "Non-trainable params: 256\n",
      "_________________________________________________________________\n"
     ]
    }
   ],
   "source": [
    "from quantizeml.models import quantize, QuantizationParams\n",
    "\n",
    "\n",
    "qparams = QuantizationParams(input_weight_bits=8, weight_bits=8, activation_bits=8)\n",
    "model_quantized = quantize(model_keras, qparams=qparams)\n",
    "model_quantized.summary()"
   ]
  },
  {
   "cell_type": "code",
   "execution_count": 5,
   "metadata": {},
   "outputs": [
    {
     "name": "stdout",
     "output_type": "stream",
     "text": [
      "Test accuracy after 8-bit quantization: 0.98089998960495\n"
     ]
    }
   ],
   "source": [
    "def compile_evaluate(model):\n",
    "    \"\"\" Compiles and evaluates the model, then return accuracy score. \"\"\"\n",
    "    model.compile(metrics=['accuracy'])\n",
    "    return model.evaluate(x_test, y_test, verbose=0)[1]\n",
    "\n",
    "\n",
    "print('Test accuracy after 8-bit quantization:', compile_evaluate(model_quantized))"
   ]
  },
  {
   "cell_type": "code",
   "execution_count": 6,
   "metadata": {},
   "outputs": [
    {
     "name": "stdout",
     "output_type": "stream",
     "text": [
      "11/11 [==============================] - 0s 3ms/step\n",
      "11/11 [==============================] - 0s 3ms/step\n",
      "Test accuracy after calibration: 0.9807000160217285\n"
     ]
    }
   ],
   "source": [
    "model_quantized = quantize(model_keras, qparams=qparams,\n",
    "                           samples=x_train, num_samples=1024, batch_size=100, epochs=2)\n",
    "#this is calibration\n",
    "\n",
    "print('Test accuracy after calibration:', compile_evaluate(model_quantized))"
   ]
  },
  {
   "cell_type": "code",
   "execution_count": 9,
   "metadata": {},
   "outputs": [
    {
     "name": "stdout",
     "output_type": "stream",
     "text": [
      "11/11 [==============================] - 0s 3ms/step\n",
      "11/11 [==============================] - 0s 3ms/step\n"
     ]
    }
   ],
   "source": [
    "qparams = QuantizationParams(input_weight_bits=8, weight_bits=4, activation_bits=4)\n",
    "model_quantized = quantize(model_keras, qparams=qparams,\n",
    "                           samples=x_train, num_samples=1024, batch_size=100, epochs=2)\n",
    "\n",
    "#this is 4 bit quantization 8/8/8"
   ]
  },
  {
   "cell_type": "code",
   "execution_count": 1,
   "metadata": {},
   "outputs": [
    {
     "ename": "NameError",
     "evalue": "name 'model_quantized' is not defined",
     "output_type": "error",
     "traceback": [
      "\u001b[1;31m---------------------------------------------------------------------------\u001b[0m",
      "\u001b[1;31mNameError\u001b[0m                                 Traceback (most recent call last)",
      "Cell \u001b[1;32mIn[1], line 1\u001b[0m\n\u001b[1;32m----> 1\u001b[0m \u001b[43mmodel_quantized\u001b[49m\u001b[38;5;241m.\u001b[39mcompile(\n\u001b[0;32m      2\u001b[0m     loss\u001b[38;5;241m=\u001b[39mkeras\u001b[38;5;241m.\u001b[39mlosses\u001b[38;5;241m.\u001b[39mSparseCategoricalCrossentropy(from_logits\u001b[38;5;241m=\u001b[39m\u001b[38;5;28;01mTrue\u001b[39;00m),\n\u001b[0;32m      3\u001b[0m     optimizer\u001b[38;5;241m=\u001b[39mAdam(learning_rate\u001b[38;5;241m=\u001b[39m\u001b[38;5;241m1e-4\u001b[39m),\n\u001b[0;32m      4\u001b[0m     metrics\u001b[38;5;241m=\u001b[39m[\u001b[38;5;124m'\u001b[39m\u001b[38;5;124maccuracy\u001b[39m\u001b[38;5;124m'\u001b[39m])\n\u001b[0;32m      6\u001b[0m model_quantized\u001b[38;5;241m.\u001b[39mfit(x_train, y_train, epochs\u001b[38;5;241m=\u001b[39m\u001b[38;5;241m5\u001b[39m, validation_split\u001b[38;5;241m=\u001b[39m\u001b[38;5;241m0.1\u001b[39m)\n",
      "\u001b[1;31mNameError\u001b[0m: name 'model_quantized' is not defined"
     ]
    }
   ],
   "source": [
    "model_quantized.compile(\n",
    "    loss=keras.losses.SparseCategoricalCrossentropy(from_logits=True),\n",
    "    optimizer=Adam(learning_rate=1e-4),\n",
    "    metrics=['accuracy'])\n",
    "\n",
    "model_quantized.fit(x_train, y_train, epochs=5, validation_split=0.1)"
   ]
  },
  {
   "cell_type": "code",
   "execution_count": 12,
   "metadata": {},
   "outputs": [
    {
     "name": "stdout",
     "output_type": "stream",
     "text": [
      "Test accuracy after fine tuning: 0.9842000007629395\n"
     ]
    }
   ],
   "source": [
    "score = model_quantized.evaluate(x_test, y_test, verbose=0)[1]\n",
    "print('Test accuracy after fine tuning:', score)"
   ]
  },
  {
   "cell_type": "code",
   "execution_count": 13,
   "metadata": {},
   "outputs": [
    {
     "name": "stdout",
     "output_type": "stream",
     "text": [
      "WARNING:tensorflow:5 out of the last 5 calls to <function NonTrackVariable.set_var at 0x000001B3A85C7550> triggered tf.function retracing. Tracing is expensive and the excessive number of tracings could be due to (1) creating @tf.function repeatedly in a loop, (2) passing tensors with different shapes, (3) passing Python objects instead of tensors. For (1), please define your @tf.function outside of the loop. For (2), @tf.function has reduce_retracing=True option that can avoid unnecessary retracing. For (3), please refer to https://www.tensorflow.org/guide/function#controlling_retracing and https://www.tensorflow.org/api_docs/python/tf/function for  more details.\n",
      "WARNING:tensorflow:6 out of the last 6 calls to <function NonTrackVariable.set_var at 0x000001B394354550> triggered tf.function retracing. Tracing is expensive and the excessive number of tracings could be due to (1) creating @tf.function repeatedly in a loop, (2) passing tensors with different shapes, (3) passing Python objects instead of tensors. For (1), please define your @tf.function outside of the loop. For (2), @tf.function has reduce_retracing=True option that can avoid unnecessary retracing. For (3), please refer to https://www.tensorflow.org/guide/function#controlling_retracing and https://www.tensorflow.org/api_docs/python/tf/function for  more details.\n",
      "                Model Summary                 \n",
      "______________________________________________\n",
      "Input shape  Output shape  Sequences  Layers\n",
      "==============================================\n",
      "[28, 28, 1]  [1, 1, 10]    1          5     \n",
      "______________________________________________\n",
      "\n",
      "__________________________________________________________________\n",
      "Layer (type)                        Output shape  Kernel shape  \n",
      "\n",
      "=============== SW/conv2d-dequantizer_3 (Software) ===============\n",
      "\n",
      "conv2d (InputConv2D)                [13, 13, 32]  (3, 3, 1, 32) \n",
      "__________________________________________________________________\n",
      "depthwise_conv2d (DepthwiseConv2D)  [7, 7, 32]    (3, 3, 32, 1) \n",
      "__________________________________________________________________\n",
      "conv2d_1 (Conv2D)                   [7, 7, 64]    (1, 1, 32, 64)\n",
      "__________________________________________________________________\n",
      "dense (Dense2D)                     [1, 1, 10]    (3136, 10)    \n",
      "__________________________________________________________________\n",
      "dequantizer_3 (Dequantizer)         [1, 1, 10]    N/A           \n",
      "__________________________________________________________________\n"
     ]
    }
   ],
   "source": [
    "from cnn2snn import convert\n",
    "\n",
    "model_akida = convert(model_quantized)\n",
    "model_akida.summary()"
   ]
  },
  {
   "cell_type": "code",
   "execution_count": 14,
   "metadata": {},
   "outputs": [
    {
     "name": "stdout",
     "output_type": "stream",
     "text": [
      "Test accuracy after conversion: 0.98580002784729\n"
     ]
    }
   ],
   "source": [
    "accuracy = model_akida.evaluate(x_test, y_test)\n",
    "print('Test accuracy after conversion:', accuracy)\n",
    "\n",
    "# For non-regression purposes\n",
    "assert accuracy > 0.96"
   ]
  },
  {
   "cell_type": "code",
   "execution_count": 15,
   "metadata": {},
   "outputs": [
    {
     "name": "stdout",
     "output_type": "stream",
     "text": [
      "Input Label: 7\n"
     ]
    },
    {
     "data": {
      "image/png": "[encoded data removed]",
      "text/plain": [
       "<Figure size 640x480 with 2 Axes>"
      ]
     },
     "metadata": {},
     "output_type": "display_data"
    },
    {
     "name": "stdout",
     "output_type": "stream",
     "text": [
      "[-10.560382   -9.636066   -4.428141   -1.2002906 -11.943915   -8.927284\n",
      " -18.74732     7.075752   -4.28392    -1.8798199]\n"
     ]
    }
   ],
   "source": [
    "# Test a single example\n",
    "sample_image = 0\n",
    "image = x_test[sample_image]\n",
    "outputs = model_akida.predict(image.reshape(1, 28, 28, 1))\n",
    "print('Input Label: %i' % y_test[sample_image])\n",
    "\n",
    "f, axarr = plt.subplots(1, 2)\n",
    "axarr[0].imshow(x_test[sample_image].reshape((28, 28)), cmap=cm.Greys_r)\n",
    "axarr[0].set_title('Class %d' % y_test[sample_image])\n",
    "axarr[1].bar(range(10), outputs.squeeze())\n",
    "axarr[1].set_xticks(range(10))\n",
    "plt.show()\n",
    "\n",
    "print(outputs.squeeze())"
   ]
  },
  {
   "cell_type": "code",
   "execution_count": null,
   "metadata": {},
   "outputs": [],
   "source": []
  }
 ],
 "metadata": {
  "kernelspec": {
   "display_name": "Dissertation_Environment2",
   "language": "python",
   "name": "python3"
  },
  "language_info": {
   "codemirror_mode": {
    "name": "ipython",
    "version": 3
   },
   "file_extension": ".py",
   "mimetype": "text/x-python",
   "name": "python",
   "nbconvert_exporter": "python",
   "pygments_lexer": "ipython3",
   "version": "3.8.19"
  }
 },
 "nbformat": 4,
 "nbformat_minor": 2
}
