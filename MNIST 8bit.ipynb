{
 "cells": [
  {
   "cell_type": "code",
   "execution_count": 12,
   "metadata": {},
   "outputs": [
    {
     "data": {
      "image/png": "[encoded data removed]",
      "text/plain": [
       "<Figure size 640x480 with 4 Axes>"
      ]
     },
     "metadata": {},
     "output_type": "display_data"
    }
   ],
   "source": [
    "import numpy as np\n",
    "import matplotlib.cm as cm\n",
    "import matplotlib.pyplot as plt\n",
    "\n",
    "from keras.datasets import mnist\n",
    "\n",
    "# Load MNIST dataset\n",
    "(x_train, y_train), (x_test, y_test) = mnist.load_data()\n",
    "\n",
    "# Add a channels dimension to the image sets as Akida expects 4-D inputs (corresponding to\n",
    "# (num_samples, width, height, channels). Note: MNIST is a grayscale dataset and is unusual\n",
    "# in this respect - most image data already includes a channel dimension, and this step will\n",
    "# not be necessary.\n",
    "x_train = np.expand_dims(x_train, -1)\n",
    "x_test = np.expand_dims(x_test, -1)\n",
    "\n",
    "# Display a few images from the test set\n",
    "f, axarr = plt.subplots(1, 4)\n",
    "for i in range(0, 4):\n",
    "    axarr[i].imshow(x_test[i].reshape((28, 28)), cmap=cm.Greys_r)\n",
    "    axarr[i].set_title('Class %d' % y_test[i])\n",
    "plt.show()"
   ]
  },
  {
   "cell_type": "code",
   "execution_count": 13,
   "metadata": {},
   "outputs": [
    {
     "name": "stdout",
     "output_type": "stream",
     "text": [
      "Model: \"mnistnet\"\n",
      "_________________________________________________________________\n",
      " Layer (type)                Output Shape              Param #   \n",
      "=================================================================\n",
      " rescaling_1 (Rescaling)     (None, 28, 28, 1)         0         \n",
      "                                                                 \n",
      " conv2d_2 (Conv2D)           (None, 13, 13, 32)        320       \n",
      "                                                                 \n",
      " batch_normalization_2 (Batc  (None, 13, 13, 32)       128       \n",
      " hNormalization)                                                 \n",
      "                                                                 \n",
      " re_lu_2 (ReLU)              (None, 13, 13, 32)        0         \n",
      "                                                                 \n",
      " depthwise_conv2d_1 (Depthwi  (None, 7, 7, 32)         320       \n",
      " seConv2D)                                                       \n",
      "                                                                 \n",
      " conv2d_3 (Conv2D)           (None, 7, 7, 64)          2112      \n",
      "                                                                 \n",
      " batch_normalization_3 (Batc  (None, 7, 7, 64)         256       \n",
      " hNormalization)                                                 \n",
      "                                                                 \n",
      " re_lu_3 (ReLU)              (None, 7, 7, 64)          0         \n",
      "                                                                 \n",
      " flatten_1 (Flatten)         (None, 3136)              0         \n",
      "                                                                 \n",
      " dense_1 (Dense)             (None, 10)                31370     \n",
      "                                                                 \n",
      "=================================================================\n",
      "Total params: 34,506\n",
      "Trainable params: 34,314\n",
      "Non-trainable params: 192\n",
      "_________________________________________________________________\n"
     ]
    }
   ],
   "source": [
    "import keras\n",
    "\n",
    "#creating the multlayer CNN, which will then be converted to a SNN.\n",
    "model_keras = keras.models.Sequential([\n",
    "    keras.layers.Rescaling(1. / 255, input_shape=(28, 28, 1)),\n",
    "    keras.layers.Conv2D(filters=32, kernel_size=3, strides=2),\n",
    "    keras.layers.BatchNormalization(),\n",
    "    keras.layers.ReLU(),\n",
    "    # Separable layer\n",
    "    keras.layers.DepthwiseConv2D(kernel_size=3, padding='same', strides=2),\n",
    "    keras.layers.Conv2D(filters=64, kernel_size=1, padding='same'),\n",
    "    keras.layers.BatchNormalization(),\n",
    "    keras.layers.ReLU(),\n",
    "    keras.layers.Flatten(),\n",
    "    keras.layers.Dense(10)\n",
    "], 'mnistnet')\n",
    "\n",
    "model_keras.summary()"
   ]
  },
  {
   "cell_type": "code",
   "execution_count": 14,
   "metadata": {},
   "outputs": [
    {
     "name": "stdout",
     "output_type": "stream",
     "text": [
      "Epoch 1/10\n",
      "1688/1688 [==============================] - 8s 4ms/step - loss: 0.1760 - accuracy: 0.9476 - val_loss: 0.0673 - val_accuracy: 0.9812\n",
      "Epoch 2/10\n",
      "1688/1688 [==============================] - 7s 4ms/step - loss: 0.0718 - accuracy: 0.9779 - val_loss: 0.0630 - val_accuracy: 0.9833\n",
      "Epoch 3/10\n",
      "1688/1688 [==============================] - 7s 4ms/step - loss: 0.0546 - accuracy: 0.9826 - val_loss: 0.0630 - val_accuracy: 0.9832\n",
      "Epoch 4/10\n",
      "1688/1688 [==============================] - 7s 4ms/step - loss: 0.0417 - accuracy: 0.9863 - val_loss: 0.0656 - val_accuracy: 0.9843\n",
      "Epoch 5/10\n",
      "1688/1688 [==============================] - 7s 4ms/step - loss: 0.0357 - accuracy: 0.9887 - val_loss: 0.0797 - val_accuracy: 0.9783\n",
      "Epoch 6/10\n",
      "1688/1688 [==============================] - 7s 4ms/step - loss: 0.0280 - accuracy: 0.9907 - val_loss: 0.0552 - val_accuracy: 0.9873\n",
      "Epoch 7/10\n",
      "1688/1688 [==============================] - 7s 4ms/step - loss: 0.0238 - accuracy: 0.9917 - val_loss: 0.0789 - val_accuracy: 0.9805\n",
      "Epoch 8/10\n",
      "1688/1688 [==============================] - 7s 4ms/step - loss: 0.0209 - accuracy: 0.9933 - val_loss: 0.0612 - val_accuracy: 0.9848\n",
      "Epoch 9/10\n",
      "1688/1688 [==============================] - 7s 4ms/step - loss: 0.0169 - accuracy: 0.9942 - val_loss: 0.0675 - val_accuracy: 0.9848\n",
      "Epoch 10/10\n",
      "1688/1688 [==============================] - 7s 4ms/step - loss: 0.0151 - accuracy: 0.9951 - val_loss: 0.0619 - val_accuracy: 0.9868\n"
     ]
    }
   ],
   "source": [
    "from keras.optimizers import Adam\n",
    "#optimizes the algorithm to attain convergence. changing the learning rate\n",
    "model_keras.compile(\n",
    "    loss=keras.losses.SparseCategoricalCrossentropy(from_logits=True),\n",
    "    optimizer=Adam(learning_rate=1e-3),\n",
    "    metrics=['accuracy'])\n",
    "\n",
    "_ = model_keras.fit(x_train, y_train, epochs=10, validation_split=0.1)"
   ]
  },
  {
   "cell_type": "code",
   "execution_count": 59,
   "metadata": {},
   "outputs": [
    {
     "name": "stdout",
     "output_type": "stream",
     "text": [
      "1024/1024 [==============================] - 1s 674us/step\n",
      "Model: \"mnistnet\"\n",
      "_________________________________________________________________\n",
      " Layer (type)                Output Shape              Param #   \n",
      "=================================================================\n",
      " rescaling_1_input (InputLay  [(None, 28, 28, 1)]      0         \n",
      " er)                                                             \n",
      "                                                                 \n",
      " rescaling_1 (QuantizedResca  (None, 28, 28, 1)        0         \n",
      " ling)                                                           \n",
      "                                                                 \n",
      " conv2d_2 (QuantizedConv2D)  (None, 13, 13, 32)        320       \n",
      "                                                                 \n",
      " re_lu_2 (QuantizedReLU)     (None, 13, 13, 32)        64        \n",
      "                                                                 \n",
      " depthwise_conv2d_1 (Quantiz  (None, 7, 7, 32)         384       \n",
      " edDepthwiseConv2D)                                              \n",
      "                                                                 \n",
      " conv2d_3 (QuantizedConv2D)  (None, 7, 7, 64)          2112      \n",
      "                                                                 \n",
      " re_lu_3 (QuantizedReLU)     (None, 7, 7, 64)          128       \n",
      "                                                                 \n",
      " flatten_1 (QuantizedFlatten  (None, 3136)             0         \n",
      " )                                                               \n",
      "                                                                 \n",
      " dense_1 (QuantizedDense)    (None, 10)                31370     \n",
      "                                                                 \n",
      " dequantizer_17 (Dequantizer  (None, 10)               0         \n",
      " )                                                               \n",
      "                                                                 \n",
      "=================================================================\n",
      "Total params: 34,378\n",
      "Trainable params: 34,122\n",
      "Non-trainable params: 256\n",
      "_________________________________________________________________\n"
     ]
    }
   ],
   "source": [
    "from quantizeml.models import quantize, QuantizationParams\n",
    "\n",
    "\n",
    "qparams = QuantizationParams(input_weight_bits=2, weight_bits=2, activation_bits=2)\n",
    "model_quantized = quantize(model_keras, qparams=qparams)\n",
    "model_quantized.summary()"
   ]
  },
  {
   "cell_type": "code",
   "execution_count": 60,
   "metadata": {},
   "outputs": [
    {
     "name": "stdout",
     "output_type": "stream",
     "text": [
      "Test accuracy after 8-bit quantization: 0.29170000553131104\n"
     ]
    }
   ],
   "source": [
    "def compile_evaluate(model):\n",
    "    \"\"\" Compiles and evaluates the model, then return accuracy score. \"\"\"\n",
    "    model.compile(metrics=['accuracy'])\n",
    "    return model.evaluate(x_test, y_test, verbose=0)[1]\n",
    "\n",
    "\n",
    "print('Test accuracy after 8-bit quantization:', compile_evaluate(model_quantized))"
   ]
  },
  {
   "cell_type": "code",
   "execution_count": 61,
   "metadata": {},
   "outputs": [
    {
     "name": "stdout",
     "output_type": "stream",
     "text": [
      "11/11 [==============================] - 0s 4ms/step\n",
      "11/11 [==============================] - 0s 4ms/step\n",
      "Test accuracy after calibration: 0.11779999732971191\n"
     ]
    }
   ],
   "source": [
    "model_quantized = quantize(model_keras, qparams=qparams,\n",
    "                           samples=x_train, num_samples=1024, batch_size=100, epochs=2)\n",
    "#this is calibration\n",
    "\n",
    "print('Test accuracy after calibration:', compile_evaluate(model_quantized))"
   ]
  },
  {
   "cell_type": "code",
   "execution_count": 53,
   "metadata": {},
   "outputs": [],
   "source": [
    "class Timer:\n",
    "    def __init__(self):\n",
    "        self.start_time = None\n",
    "        self.end_time = None\n",
    "\n",
    "    def start(self):\n",
    "        self.start_time = time.perf_counter()\n",
    "\n",
    "    def stop(self):\n",
    "        self.end_time = time.perf_counter()\n",
    "        return self.end_time - self.start_time"
   ]
  },
  {
   "cell_type": "code",
   "execution_count": 62,
   "metadata": {},
   "outputs": [
    {
     "name": "stdout",
     "output_type": "stream",
     "text": [
      "Prediction took 0.0004 seconds\n",
      "Input Label: 7\n"
     ]
    },
    {
     "data": {
      "image/png": "[encoded data removed]",
      "text/plain": [
       "<Figure size 640x480 with 2 Axes>"
      ]
     },
     "metadata": {},
     "output_type": "display_data"
    },
    {
     "name": "stdout",
     "output_type": "stream",
     "text": [
      "[-11.673607   -14.242352    -5.029101    -0.09616914 -21.491945\n",
      "  -9.694143   -32.54855     10.577699    -5.38245     -1.9527236 ]\n"
     ]
    }
   ],
   "source": [
    "# Test a single example\n",
    "sample_image = 0\n",
    "image = x_test[sample_image]\n",
    "timer = Timer()\n",
    "timer.start()\n",
    "outputs = model_akida.predict(image.reshape(1, 28, 28, 1))\n",
    "prediction_time = timer.stop()\n",
    "print(f\"Prediction took {prediction_time:.4f} seconds\")\n",
    "print('Input Label: %i' % y_test[sample_image])\n",
    "\n",
    "f, axarr = plt.subplots(1, 2)\n",
    "axarr[0].imshow(x_test[sample_image].reshape((28, 28)), cmap=cm.Greys_r)\n",
    "axarr[0].set_title('Class %d' % y_test[sample_image])\n",
    "axarr[1].bar(range(10), outputs.squeeze())\n",
    "axarr[1].set_xticks(range(10))\n",
    "plt.show()\n",
    "\n",
    "print(outputs.squeeze())"
   ]
  }
 ],
 "metadata": {
  "kernelspec": {
   "display_name": "Dissertation_Environment2",
   "language": "python",
   "name": "python3"
  },
  "language_info": {
   "codemirror_mode": {
    "name": "ipython",
    "version": 3
   },
   "file_extension": ".py",
   "mimetype": "text/x-python",
   "name": "python",
   "nbconvert_exporter": "python",
   "pygments_lexer": "ipython3",
   "version": "3.8.19"
  }
 },
 "nbformat": 4,
 "nbformat_minor": 2
}
