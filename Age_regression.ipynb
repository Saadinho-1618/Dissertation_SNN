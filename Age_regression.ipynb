{
 "cells": [
  {
   "cell_type": "code",
   "execution_count": 1,
   "metadata": {},
   "outputs": [],
   "source": [
    "from akida_models.utk_face.preprocessing import load_data\n",
    "\n",
    "# Load the dataset\n",
    "x_train, y_train, x_test, y_test = load_data()"
   ]
  },
  {
   "cell_type": "code",
   "execution_count": 2,
   "metadata": {},
   "outputs": [],
   "source": [
    "# For Akida inference, use uint8 raw data\n",
    "x_test_akida = x_test.astype('uint8')"
   ]
  },
  {
   "cell_type": "code",
   "execution_count": 3,
   "metadata": {},
   "outputs": [
    {
     "name": "stdout",
     "output_type": "stream",
     "text": [
      "WARNING:tensorflow:No training configuration found in the save file, so the model was *not* compiled. Compile it manually.\n",
      "Model: \"vgg_utk_face\"\n",
      "_________________________________________________________________\n",
      " Layer (type)                Output Shape              Param #   \n",
      "=================================================================\n",
      " input (InputLayer)          [(None, 32, 32, 3)]       0         \n",
      "                                                                 \n",
      " rescaling (Rescaling)       (None, 32, 32, 3)         0         \n",
      "                                                                 \n",
      " conv_0 (Conv2D)             (None, 30, 30, 32)        864       \n",
      "                                                                 \n",
      " conv_0/BN (BatchNormalizati  (None, 30, 30, 32)       128       \n",
      " on)                                                             \n",
      "                                                                 \n",
      " conv_0/relu (ReLU)          (None, 30, 30, 32)        0         \n",
      "                                                                 \n",
      " conv_1 (Conv2D)             (None, 30, 30, 32)        9216      \n",
      "                                                                 \n",
      " conv_1/maxpool (MaxPooling2  (None, 15, 15, 32)       0         \n",
      " D)                                                              \n",
      "                                                                 \n",
      " conv_1/BN (BatchNormalizati  (None, 15, 15, 32)       128       \n",
      " on)                                                             \n",
      "                                                                 \n",
      " conv_1/relu (ReLU)          (None, 15, 15, 32)        0         \n",
      "                                                                 \n",
      " dropout_3 (Dropout)         (None, 15, 15, 32)        0         \n",
      "                                                                 \n",
      " conv_2 (Conv2D)             (None, 15, 15, 64)        18432     \n",
      "                                                                 \n",
      " conv_2/BN (BatchNormalizati  (None, 15, 15, 64)       256       \n",
      " on)                                                             \n",
      "                                                                 \n",
      " conv_2/relu (ReLU)          (None, 15, 15, 64)        0         \n",
      "                                                                 \n",
      " conv_3 (Conv2D)             (None, 15, 15, 64)        36864     \n",
      "                                                                 \n",
      " conv_3/maxpool (MaxPooling2  (None, 8, 8, 64)         0         \n",
      " D)                                                              \n",
      "                                                                 \n",
      " conv_3/BN (BatchNormalizati  (None, 8, 8, 64)         256       \n",
      " on)                                                             \n",
      "                                                                 \n",
      " conv_3/relu (ReLU)          (None, 8, 8, 64)          0         \n",
      "                                                                 \n",
      " dropout_4 (Dropout)         (None, 8, 8, 64)          0         \n",
      "                                                                 \n",
      " conv_4 (Conv2D)             (None, 8, 8, 84)          48384     \n",
      "                                                                 \n",
      " conv_4/BN (BatchNormalizati  (None, 8, 8, 84)         336       \n",
      " on)                                                             \n",
      "                                                                 \n",
      " conv_4/relu (ReLU)          (None, 8, 8, 84)          0         \n",
      "                                                                 \n",
      " conv_4/global_avg (GlobalAv  (None, 84)               0         \n",
      " eragePooling2D)                                                 \n",
      "                                                                 \n",
      " dropout_5 (Dropout)         (None, 84)                0         \n",
      "                                                                 \n",
      " dense_1 (Dense)             (None, 64)                5376      \n",
      "                                                                 \n",
      " dense_1/BN (BatchNormalizat  (None, 64)               256       \n",
      " ion)                                                            \n",
      "                                                                 \n",
      " dense_1/relu (ReLU)         (None, 64)                0         \n",
      "                                                                 \n",
      " dense_2 (Dense)             (None, 1)                 65        \n",
      "                                                                 \n",
      "=================================================================\n",
      "Total params: 120,561\n",
      "Trainable params: 119,881\n",
      "Non-trainable params: 680\n",
      "_________________________________________________________________\n"
     ]
    }
   ],
   "source": [
    "from akida_models import fetch_file\n",
    "from tensorflow.keras.models import load_model\n",
    "\n",
    "# Retrieve the model file from the BrainChip data server\n",
    "model_file = fetch_file(fname=\"vgg_utk_face.h5\",\n",
    "                        origin=\"https://data.brainchip.com/models/AkidaV2/vgg/vgg_utk_face.h5\",\n",
    "                        cache_subdir='models')\n",
    "\n",
    "# Load the native Keras pre-trained model\n",
    "model_keras = load_model(model_file)\n",
    "model_keras.summary()"
   ]
  },
  {
   "cell_type": "code",
   "execution_count": 4,
   "metadata": {},
   "outputs": [
    {
     "name": "stdout",
     "output_type": "stream",
     "text": [
      "Keras MAE: 6.0806\n"
     ]
    }
   ],
   "source": [
    "# Compile the native Keras model (required to evaluate the MAE)\n",
    "model_keras.compile(optimizer='Adam', loss='mae')\n",
    "\n",
    "# Check Keras model performance\n",
    "mae_keras = model_keras.evaluate(x_test, y_test, verbose=0)\n",
    "\n",
    "print(\"Keras MAE: {0:.4f}\".format(mae_keras))"
   ]
  },
  {
   "cell_type": "code",
   "execution_count": 5,
   "metadata": {},
   "outputs": [
    {
     "name": "stdout",
     "output_type": "stream",
     "text": [
      "WARNING:tensorflow:No training configuration found in the save file, so the model was *not* compiled. Compile it manually.\n",
      "Model: \"vgg_utk_face\"\n",
      "_________________________________________________________________\n",
      " Layer (type)                Output Shape              Param #   \n",
      "=================================================================\n",
      " input (InputLayer)          [(None, 32, 32, 3)]       0         \n",
      "                                                                 \n",
      " rescaling (QuantizedRescali  (None, 32, 32, 3)        0         \n",
      " ng)                                                             \n",
      "                                                                 \n",
      " conv_0 (QuantizedConv2D)    (None, 30, 30, 32)        896       \n",
      "                                                                 \n",
      " conv_0/relu (QuantizedReLU)  (None, 30, 30, 32)       64        \n",
      "                                                                 \n",
      " conv_1 (QuantizedConv2D)    (None, 30, 30, 32)        9248      \n",
      "                                                                 \n",
      " conv_1/maxpool (QuantizedMa  (None, 15, 15, 32)       0         \n",
      " xPool2D)                                                        \n",
      "                                                                 \n",
      " conv_1/relu (QuantizedReLU)  (None, 15, 15, 32)       64        \n",
      "                                                                 \n",
      " dropout_3 (QuantizedDropout  (None, 15, 15, 32)       0         \n",
      " )                                                               \n",
      "                                                                 \n",
      " conv_2 (QuantizedConv2D)    (None, 15, 15, 64)        18496     \n",
      "                                                                 \n",
      " conv_2/relu (QuantizedReLU)  (None, 15, 15, 64)       128       \n",
      "                                                                 \n",
      " conv_3 (QuantizedConv2D)    (None, 15, 15, 64)        36928     \n",
      "                                                                 \n",
      " conv_3/maxpool (QuantizedMa  (None, 8, 8, 64)         0         \n",
      " xPool2D)                                                        \n",
      "                                                                 \n",
      " conv_3/relu (QuantizedReLU)  (None, 8, 8, 64)         128       \n",
      "                                                                 \n",
      " dropout_4 (QuantizedDropout  (None, 8, 8, 64)         0         \n",
      " )                                                               \n",
      "                                                                 \n",
      " conv_4 (QuantizedConv2D)    (None, 8, 8, 84)          48468     \n",
      "                                                                 \n",
      " conv_4/relu (QuantizedReLU)  (None, 8, 8, 84)         0         \n",
      "                                                                 \n",
      " conv_4/global_avg (Quantize  (None, 84)               2         \n",
      " dGlobalAveragePooling2D)                                        \n",
      "                                                                 \n",
      " dropout_5 (QuantizedDropout  (None, 84)               0         \n",
      " )                                                               \n",
      "                                                                 \n",
      " dense_1 (QuantizedDense)    (None, 64)                5440      \n",
      "                                                                 \n",
      " dense_1/relu (QuantizedReLU  (None, 64)               2         \n",
      " )                                                               \n",
      "                                                                 \n",
      " dense_2 (QuantizedDense)    (None, 1)                 65        \n",
      "                                                                 \n",
      " dequantizer (Dequantizer)   (None, 1)                 0         \n",
      "                                                                 \n",
      "=================================================================\n",
      "Total params: 119,929\n",
      "Trainable params: 119,541\n",
      "Non-trainable params: 388\n",
      "_________________________________________________________________\n"
     ]
    }
   ],
   "source": [
    "from akida_models import vgg_utk_face_pretrained\n",
    "\n",
    "# Load the pre-trained quantized model\n",
    "model_quantized_keras = vgg_utk_face_pretrained()\n",
    "model_quantized_keras.summary()"
   ]
  },
  {
   "cell_type": "code",
   "execution_count": null,
   "metadata": {},
   "outputs": [],
   "source": [
    "import quantizeml\n",
    "import json\n",
    "from quantizeml.models import quantize, QuantizationParams,dump_config\n",
    "#model_keras = model_keras_quantized\n",
    "qparams = QuantizationParams(input_weight_bits=8, weight_bits=8, activation_bits=8, output_bits=8,\n",
    "                             per_tensor_activations=True, buffer_bits=24)\n",
    "\n",
    "# Quantize the model\n",
    "quantized_model = quantize(model_keras, qparams=qparams)\n",
    "quantized_model.summary()"
   ]
  },
  {
   "cell_type": "code",
   "execution_count": null,
   "metadata": {},
   "outputs": [],
   "source": [
    "import quantizeml\n",
    "import json\n",
    "from quantizeml.models import quantize, QuantizationParams,dump_config\n",
    "#model_keras = model_keras_quantized\n",
    "qparams = QuantizationParams(input_weight_bits=8, weight_bits=4, activation_bits=4,\n",
    "                             per_tensor_activations=True, buffer_bits=24)\n",
    "\n",
    "# Quantize the model\n",
    "quantized_model = quantize(model_keras, qparams=qparams)\n",
    "quantized_model.summary()"
   ]
  },
  {
   "cell_type": "code",
   "execution_count": 6,
   "metadata": {},
   "outputs": [
    {
     "name": "stdout",
     "output_type": "stream",
     "text": [
      "1024/1024 [==============================] - 2s 2ms/step\n",
      "Model: \"vgg_utk_face\"\n",
      "_________________________________________________________________\n",
      " Layer (type)                Output Shape              Param #   \n",
      "=================================================================\n",
      " input (InputLayer)          [(None, 32, 32, 3)]       0         \n",
      "                                                                 \n",
      " rescaling (QuantizedRescali  (None, 32, 32, 3)        0         \n",
      " ng)                                                             \n",
      "                                                                 \n",
      " conv_0 (QuantizedConv2D)    (None, 30, 30, 32)        896       \n",
      "                                                                 \n",
      " conv_0/relu (QuantizedReLU)  (None, 30, 30, 32)       2         \n",
      "                                                                 \n",
      " conv_1 (QuantizedConv2D)    (None, 30, 30, 32)        9248      \n",
      "                                                                 \n",
      " conv_1/maxpool (QuantizedMa  (None, 15, 15, 32)       0         \n",
      " xPool2D)                                                        \n",
      "                                                                 \n",
      " conv_1/relu (QuantizedReLU)  (None, 15, 15, 32)       2         \n",
      "                                                                 \n",
      " dropout_3 (QuantizedDropout  (None, 15, 15, 32)       0         \n",
      " )                                                               \n",
      "                                                                 \n",
      " conv_2 (QuantizedConv2D)    (None, 15, 15, 64)        18496     \n",
      "                                                                 \n",
      " conv_2/relu (QuantizedReLU)  (None, 15, 15, 64)       2         \n",
      "                                                                 \n",
      " conv_3 (QuantizedConv2D)    (None, 15, 15, 64)        36928     \n",
      "                                                                 \n",
      " conv_3/maxpool (QuantizedMa  (None, 8, 8, 64)         0         \n",
      " xPool2D)                                                        \n",
      "                                                                 \n",
      " conv_3/relu (QuantizedReLU)  (None, 8, 8, 64)         2         \n",
      "                                                                 \n",
      " dropout_4 (QuantizedDropout  (None, 8, 8, 64)         0         \n",
      " )                                                               \n",
      "                                                                 \n",
      " conv_4 (QuantizedConv2D)    (None, 8, 8, 84)          48468     \n",
      "                                                                 \n",
      " conv_4/relu (QuantizedReLU)  (None, 8, 8, 84)         0         \n",
      "                                                                 \n",
      " conv_4/global_avg (Quantize  (None, 84)               2         \n",
      " dGlobalAveragePooling2D)                                        \n",
      "                                                                 \n",
      " dropout_5 (QuantizedDropout  (None, 84)               0         \n",
      " )                                                               \n",
      "                                                                 \n",
      " dense_1 (QuantizedDense)    (None, 64)                5440      \n",
      "                                                                 \n",
      " dense_1/relu (QuantizedReLU  (None, 64)               2         \n",
      " )                                                               \n",
      "                                                                 \n",
      " dense_2 (QuantizedDense)    (None, 1)                 65        \n",
      "                                                                 \n",
      " dequantizer (Dequantizer)   (None, 1)                 0         \n",
      "                                                                 \n",
      "=================================================================\n",
      "Total params: 119,553\n",
      "Trainable params: 119,541\n",
      "Non-trainable params: 12\n",
      "_________________________________________________________________\n"
     ]
    }
   ],
   "source": [
    "import quantizeml\n",
    "import json\n",
    "from quantizeml.models import quantize, QuantizationParams,dump_config\n",
    "#model_keras = model_keras_quantized\n",
    "qparams = QuantizationParams(input_weight_bits=8, weight_bits=2, activation_bits=2,\n",
    "                             per_tensor_activations=True, buffer_bits=24)\n",
    "\n",
    "# Quantize the model\n",
    "quantized_model = quantize(model_keras, qparams=qparams)\n",
    "quantized_model.summary()"
   ]
  },
  {
   "cell_type": "code",
   "execution_count": 7,
   "metadata": {},
   "outputs": [
    {
     "name": "stdout",
     "output_type": "stream",
     "text": [
      "Keras MAE: 28.7877\n"
     ]
    }
   ],
   "source": [
    "# Compile the quantized Keras model (required to evaluate the MAE)\n",
    "quantized_model.compile(optimizer='Adam', loss='mae')\n",
    "\n",
    "# Check Keras model performance\n",
    "mae_quant = quantized_model.evaluate(x_test, y_test, verbose=0)\n",
    "\n",
    "print(\"Keras MAE: {0:.4f}\".format(mae_quant))"
   ]
  },
  {
   "cell_type": "code",
   "execution_count": 8,
   "metadata": {},
   "outputs": [
    {
     "ename": "ValueError",
     "evalue": "Conv2D layer can only handle weights with 4 or 8 bits. Received: 2.",
     "output_type": "error",
     "traceback": [
      "\u001b[1;31m---------------------------------------------------------------------------\u001b[0m",
      "\u001b[1;31mValueError\u001b[0m                                Traceback (most recent call last)",
      "Cell \u001b[1;32mIn[8], line 4\u001b[0m\n\u001b[0;32m      1\u001b[0m \u001b[38;5;28;01mfrom\u001b[39;00m \u001b[38;5;21;01mcnn2snn\u001b[39;00m \u001b[38;5;28;01mimport\u001b[39;00m convert\n\u001b[0;32m      3\u001b[0m \u001b[38;5;66;03m# Convert the model\u001b[39;00m\n\u001b[1;32m----> 4\u001b[0m model_akida \u001b[38;5;241m=\u001b[39m \u001b[43mconvert\u001b[49m\u001b[43m(\u001b[49m\u001b[43mquantized_model\u001b[49m\u001b[43m)\u001b[49m\n\u001b[0;32m      5\u001b[0m model_akida\u001b[38;5;241m.\u001b[39msummary()\n",
      "File \u001b[1;32m~\\AppData\\Roaming\\Python\\Python38\\site-packages\\cnn2snn\\converter.py:126\u001b[0m, in \u001b[0;36mconvert\u001b[1;34m(model, file_path, input_scaling)\u001b[0m\n\u001b[0;32m    123\u001b[0m     \u001b[38;5;28;01mif\u001b[39;00m input_scaling:\n\u001b[0;32m    124\u001b[0m         warnings\u001b[38;5;241m.\u001b[39mwarn(\u001b[38;5;167;01mUserWarning\u001b[39;00m(\u001b[38;5;124m\"\u001b[39m\u001b[38;5;124mCannot use input_scaling parameter when converting\u001b[39m\u001b[38;5;124m\"\u001b[39m\n\u001b[0;32m    125\u001b[0m                                   \u001b[38;5;124m\"\u001b[39m\u001b[38;5;124m quantizeml models to akida.\u001b[39m\u001b[38;5;124m\"\u001b[39m))\n\u001b[1;32m--> 126\u001b[0m     ak_model \u001b[38;5;241m=\u001b[39m \u001b[43m_convert_quantizeml\u001b[49m\u001b[43m(\u001b[49m\u001b[43mmodel\u001b[49m\u001b[43m)\u001b[49m\n\u001b[0;32m    128\u001b[0m \u001b[38;5;66;03m# Perform post conversion checks on the model\u001b[39;00m\n\u001b[0;32m    129\u001b[0m ak_model \u001b[38;5;241m=\u001b[39m _post_conversion_checks(ak_model)\n",
      "File \u001b[1;32m~\\AppData\\Roaming\\Python\\Python38\\site-packages\\cnn2snn\\converter.py:167\u001b[0m, in \u001b[0;36m_convert_quantizeml\u001b[1;34m(model)\u001b[0m\n\u001b[0;32m    153\u001b[0m \u001b[38;5;250m\u001b[39m\u001b[38;5;124;03m\"\"\"Converts a Keras or ONNX quantized model with quantizeml to an Akida one.\u001b[39;00m\n\u001b[0;32m    154\u001b[0m \n\u001b[0;32m    155\u001b[0m \u001b[38;5;124;03mAfter quantizing a Keras model with :func:`quantizeml.quantize`, it can be\u001b[39;00m\n\u001b[1;32m   (...)\u001b[0m\n\u001b[0;32m    163\u001b[0m \n\u001b[0;32m    164\u001b[0m \u001b[38;5;124;03m\"\"\"\u001b[39;00m\n\u001b[0;32m    166\u001b[0m \u001b[38;5;66;03m# Generate Akida model with empty weights/thresholds for now\u001b[39;00m\n\u001b[1;32m--> 167\u001b[0m ak_model \u001b[38;5;241m=\u001b[39m \u001b[43mqml_generate_model\u001b[49m\u001b[43m(\u001b[49m\u001b[43mmodel\u001b[49m\u001b[43m)\u001b[49m\n\u001b[0;32m    169\u001b[0m \u001b[38;5;28;01mreturn\u001b[39;00m ak_model\n",
      "File \u001b[1;32m~\\AppData\\Roaming\\Python\\Python38\\site-packages\\cnn2snn\\quantizeml\\model_generator.py:58\u001b[0m, in \u001b[0;36mgenerate_model\u001b[1;34m(model)\u001b[0m\n\u001b[0;32m     56\u001b[0m \u001b[38;5;28;01mif\u001b[39;00m \u001b[38;5;28misinstance\u001b[39m(model, ModelProto):\n\u001b[0;32m     57\u001b[0m     \u001b[38;5;28;01mreturn\u001b[39;00m generate_onnx_model(model)\n\u001b[1;32m---> 58\u001b[0m \u001b[38;5;28;01mreturn\u001b[39;00m \u001b[43mgenerate_qml_model\u001b[49m\u001b[43m(\u001b[49m\u001b[43mmodel\u001b[49m\u001b[43m)\u001b[49m\n",
      "File \u001b[1;32m~\\AppData\\Roaming\\Python\\Python38\\site-packages\\cnn2snn\\quantizeml\\model_generator.py:71\u001b[0m, in \u001b[0;36mgenerate_qml_model\u001b[1;34m(model)\u001b[0m\n\u001b[0;32m     62\u001b[0m \u001b[38;5;250m\u001b[39m\u001b[38;5;124;03m\"\"\"Generates an Akida model based on a Keras quantizeml model.\u001b[39;00m\n\u001b[0;32m     63\u001b[0m \n\u001b[0;32m     64\u001b[0m \u001b[38;5;124;03mArgs:\u001b[39;00m\n\u001b[1;32m   (...)\u001b[0m\n\u001b[0;32m     68\u001b[0m \u001b[38;5;124;03m    :obj:`akida.Model`: the generated Akida model.\u001b[39;00m\n\u001b[0;32m     69\u001b[0m \u001b[38;5;124;03m\"\"\"\u001b[39;00m\n\u001b[0;32m     70\u001b[0m \u001b[38;5;66;03m# Check if input model is convertible and extract its layers blocks\u001b[39;00m\n\u001b[1;32m---> 71\u001b[0m blocks \u001b[38;5;241m=\u001b[39m \u001b[43mgenerate_block_converters\u001b[49m\u001b[43m(\u001b[49m\u001b[43mmodel\u001b[49m\u001b[43m)\u001b[49m\n\u001b[0;32m     72\u001b[0m \u001b[38;5;66;03m# First store necessary variables for conversion\u001b[39;00m\n\u001b[0;32m     73\u001b[0m record_quantization_variables(model)\n",
      "File \u001b[1;32m~\\AppData\\Roaming\\Python\\Python38\\site-packages\\cnn2snn\\quantizeml\\block_converters_generator.py:166\u001b[0m, in \u001b[0;36mgenerate_block_converters\u001b[1;34m(model)\u001b[0m\n\u001b[0;32m    163\u001b[0m         supported_patterns \u001b[38;5;241m=\u001b[39m _display_supported_patterns(layers)\n\u001b[0;32m    164\u001b[0m         \u001b[38;5;28;01mraise\u001b[39;00m \u001b[38;5;167;01mRuntimeError\u001b[39;00m(\u001b[38;5;124mf\u001b[39m\u001b[38;5;124m\"\u001b[39m\u001b[38;5;124mInvalid block pattern to conversion. Receives \u001b[39m\u001b[38;5;132;01m{\u001b[39;00mlayers\u001b[38;5;132;01m}\u001b[39;00m\u001b[38;5;124m. \u001b[39m\u001b[38;5;124m\"\u001b[39m\n\u001b[0;32m    165\u001b[0m                            \u001b[38;5;124mf\u001b[39m\u001b[38;5;124m\"\u001b[39m\u001b[38;5;124mSupported patterns:\u001b[39m\u001b[38;5;130;01m\\n\u001b[39;00m\u001b[38;5;132;01m{\u001b[39;00msupported_patterns\u001b[38;5;132;01m}\u001b[39;00m\u001b[38;5;124m\"\u001b[39m)\n\u001b[1;32m--> 166\u001b[0m     straight_blocks\u001b[38;5;241m.\u001b[39mappend(\u001b[43mblock_converter\u001b[49m\u001b[43m(\u001b[49m\u001b[43mnon_skippable\u001b[49m\u001b[43m)\u001b[49m)\n\u001b[0;32m    168\u001b[0m \u001b[38;5;28;01mreturn\u001b[39;00m straight_blocks\n",
      "File \u001b[1;32m~\\AppData\\Roaming\\Python\\Python38\\site-packages\\cnn2snn\\quantizeml\\convolution.py:184\u001b[0m, in \u001b[0;36mConvBlockConverterV2.__init__\u001b[1;34m(self, block)\u001b[0m\n\u001b[0;32m    182\u001b[0m \u001b[38;5;28;01mdef\u001b[39;00m \u001b[38;5;21m__init__\u001b[39m(\u001b[38;5;28mself\u001b[39m, block):\n\u001b[0;32m    183\u001b[0m     \u001b[38;5;28msuper\u001b[39m()\u001b[38;5;241m.\u001b[39m\u001b[38;5;21m__init__\u001b[39m(block)\n\u001b[1;32m--> 184\u001b[0m     \u001b[38;5;28;43mself\u001b[39;49m\u001b[38;5;241;43m.\u001b[39;49m\u001b[43m_conv_additional_checks\u001b[49m\u001b[43m(\u001b[49m\u001b[43m)\u001b[49m\n",
      "File \u001b[1;32m~\\AppData\\Roaming\\Python\\Python38\\site-packages\\cnn2snn\\quantizeml\\convolution.py:196\u001b[0m, in \u001b[0;36mConvBlockConverterV2._conv_additional_checks\u001b[1;34m(self)\u001b[0m\n\u001b[0;32m    194\u001b[0m weight_bits \u001b[38;5;241m=\u001b[39m conv\u001b[38;5;241m.\u001b[39mweight_quantizer\u001b[38;5;241m.\u001b[39mbitwidth\n\u001b[0;32m    195\u001b[0m \u001b[38;5;28;01mif\u001b[39;00m weight_bits \u001b[38;5;129;01mnot\u001b[39;00m \u001b[38;5;129;01min\u001b[39;00m [\u001b[38;5;241m4\u001b[39m, \u001b[38;5;241m8\u001b[39m]:\n\u001b[1;32m--> 196\u001b[0m     \u001b[38;5;28;01mraise\u001b[39;00m \u001b[38;5;167;01mValueError\u001b[39;00m(\u001b[38;5;124m\"\u001b[39m\u001b[38;5;124mConv2D layer can only handle weights with 4 or 8 bits.\u001b[39m\u001b[38;5;124m\"\u001b[39m\n\u001b[0;32m    197\u001b[0m                      \u001b[38;5;124mf\u001b[39m\u001b[38;5;124m\"\u001b[39m\u001b[38;5;124m Received: \u001b[39m\u001b[38;5;132;01m{\u001b[39;00mweight_bits\u001b[38;5;132;01m}\u001b[39;00m\u001b[38;5;124m.\u001b[39m\u001b[38;5;124m\"\u001b[39m)\n\u001b[0;32m    199\u001b[0m \u001b[38;5;66;03m# Make sure the Conv2D layers spatial params are square\u001b[39;00m\n\u001b[0;32m    200\u001b[0m \u001b[38;5;28;01massert\u001b[39;00m conv\u001b[38;5;241m.\u001b[39mkernel_size[\u001b[38;5;241m0\u001b[39m] \u001b[38;5;241m==\u001b[39m conv\u001b[38;5;241m.\u001b[39mkernel_size[\u001b[38;5;241m1\u001b[39m], (\u001b[38;5;124m\"\u001b[39m\u001b[38;5;124mConv2D handle only\u001b[39m\u001b[38;5;124m\"\u001b[39m\n\u001b[0;32m    201\u001b[0m                                                     \u001b[38;5;124m\"\u001b[39m\u001b[38;5;124msquare kernels\u001b[39m\u001b[38;5;124m\"\u001b[39m)\n",
      "\u001b[1;31mValueError\u001b[0m: Conv2D layer can only handle weights with 4 or 8 bits. Received: 2."
     ]
    }
   ],
   "source": [
    "from cnn2snn import convert\n",
    "\n",
    "# Convert the model\n",
    "model_akida = convert(quantized_model)\n",
    "model_akida.summary()"
   ]
  },
  {
   "cell_type": "code",
   "execution_count": null,
   "metadata": {},
   "outputs": [],
   "source": [
    "import numpy as np\n",
    "from timeit import default_timer as timer\n",
    "start = timer()\n",
    "# Check Akida model performance\n",
    "y_akida = model_akida.predict(x_test_akida)\n",
    "end = timer()\n",
    "print(f'Prediction time is {end-start:.2f} s.\\n')\n",
    "# Compute and display the MAE\n",
    "mae_akida = np.sum(np.abs(y_test.squeeze() - y_akida.squeeze())) / len(y_test)\n",
    "print(\"Akida MAE: {0:.4f}\".format(mae_akida))\n",
    "\n",
    "# For non-regression purposes\n",
    "assert abs(mae_keras - mae_akida) < 0.5"
   ]
  }
 ],
 "metadata": {
  "kernelspec": {
   "display_name": "Dissertation_Environment2",
   "language": "python",
   "name": "python3"
  },
  "language_info": {
   "codemirror_mode": {
    "name": "ipython",
    "version": 3
   },
   "file_extension": ".py",
   "mimetype": "text/x-python",
   "name": "python",
   "nbconvert_exporter": "python",
   "pygments_lexer": "ipython3",
   "version": "3.8.19"
  }
 },
 "nbformat": 4,
 "nbformat_minor": 2
}
