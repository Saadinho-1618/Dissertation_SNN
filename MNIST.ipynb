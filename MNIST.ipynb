{
 "cells": [
  {
   "cell_type": "code",
   "execution_count": 2,
   "metadata": {},
   "outputs": [
    {
     "data": {
      "image/png": "[encoded data removed]",
      "text/plain": [
       "<Figure size 640x480 with 4 Axes>"
      ]
     },
     "metadata": {},
     "output_type": "display_data"
    }
   ],
   "source": [
    "import numpy as np\n",
    "import matplotlib.cm as cm\n",
    "import matplotlib.pyplot as plt\n",
    "\n",
    "from keras.datasets import mnist\n",
    "\n",
    "# Load MNIST dataset\n",
    "(x_train, y_train), (x_test, y_test) = mnist.load_data()\n",
    "\n",
    "# Add a channels dimension to the image sets as Akida expects 4-D inputs (corresponding to\n",
    "# (num_samples, width, height, channels). Note: MNIST is a grayscale dataset and is unusual\n",
    "# in this respect - most image data already includes a channel dimension, and this step will\n",
    "# not be necessary.\n",
    "x_train = np.expand_dims(x_train, -1)\n",
    "x_test = np.expand_dims(x_test, -1)\n",
    "\n",
    "# Display a few images from the test set\n",
    "f, axarr = plt.subplots(1, 4)\n",
    "for i in range(0, 4):\n",
    "    axarr[i].imshow(x_test[i].reshape((28, 28)), cmap=cm.Greys_r)\n",
    "    axarr[i].set_title('Class %d' % y_test[i])\n",
    "plt.show()"
   ]
  },
  {
   "cell_type": "code",
   "execution_count": 3,
   "metadata": {},
   "outputs": [
    {
     "name": "stdout",
     "output_type": "stream",
     "text": [
      "Model: \"mnistnet\"\n",
      "_________________________________________________________________\n",
      " Layer (type)                Output Shape              Param #   \n",
      "=================================================================\n",
      " rescaling (Rescaling)       (None, 28, 28, 1)         0         \n",
      "                                                                 \n",
      " conv2d (Conv2D)             (None, 13, 13, 32)        320       \n",
      "                                                                 \n",
      " batch_normalization (BatchN  (None, 13, 13, 32)       128       \n",
      " ormalization)                                                   \n",
      "                                                                 \n",
      " re_lu (ReLU)                (None, 13, 13, 32)        0         \n",
      "                                                                 \n",
      " depthwise_conv2d (Depthwise  (None, 7, 7, 32)         320       \n",
      " Conv2D)                                                         \n",
      "                                                                 \n",
      " conv2d_1 (Conv2D)           (None, 7, 7, 64)          2112      \n",
      "                                                                 \n",
      " batch_normalization_1 (Batc  (None, 7, 7, 64)         256       \n",
      " hNormalization)                                                 \n",
      "                                                                 \n",
      " re_lu_1 (ReLU)              (None, 7, 7, 64)          0         \n",
      "                                                                 \n",
      " flatten (Flatten)           (None, 3136)              0         \n",
      "                                                                 \n",
      " dense (Dense)               (None, 10)                31370     \n",
      "                                                                 \n",
      "=================================================================\n",
      "Total params: 34,506\n",
      "Trainable params: 34,314\n",
      "Non-trainable params: 192\n",
      "_________________________________________________________________\n"
     ]
    }
   ],
   "source": [
    "import keras\n",
    "\n",
    "#creating the multlayer CNN, which will then be converted to a SNN.\n",
    "model_keras = keras.models.Sequential([\n",
    "    keras.layers.Rescaling(1. / 255, input_shape=(28, 28, 1)),\n",
    "    keras.layers.Conv2D(filters=32, kernel_size=3, strides=2),\n",
    "    keras.layers.BatchNormalization(),\n",
    "    keras.layers.ReLU(),\n",
    "    # Separable layer\n",
    "    keras.layers.DepthwiseConv2D(kernel_size=3, padding='same', strides=2),\n",
    "    keras.layers.Conv2D(filters=64, kernel_size=1, padding='same'),\n",
    "    keras.layers.BatchNormalization(),\n",
    "    keras.layers.ReLU(),\n",
    "    keras.layers.Flatten(),\n",
    "    keras.layers.Dense(10)\n",
    "], 'mnistnet')\n",
    "\n",
    "model_keras.summary()"
   ]
  },
  {
   "cell_type": "code",
   "execution_count": 4,
   "metadata": {},
   "outputs": [
    {
     "name": "stdout",
     "output_type": "stream",
     "text": [
      "Epoch 1/10\n",
      "1688/1688 [==============================] - 8s 4ms/step - loss: 0.1778 - accuracy: 0.9466 - val_loss: 0.0845 - val_accuracy: 0.9752\n",
      "Epoch 2/10\n",
      "1688/1688 [==============================] - 7s 4ms/step - loss: 0.0713 - accuracy: 0.9779 - val_loss: 0.0698 - val_accuracy: 0.9795\n",
      "Epoch 3/10\n",
      "1688/1688 [==============================] - 7s 4ms/step - loss: 0.0528 - accuracy: 0.9829 - val_loss: 0.0642 - val_accuracy: 0.9812\n",
      "Epoch 4/10\n",
      "1688/1688 [==============================] - 7s 4ms/step - loss: 0.0426 - accuracy: 0.9862 - val_loss: 0.0529 - val_accuracy: 0.9847\n",
      "Epoch 5/10\n",
      "1688/1688 [==============================] - 7s 4ms/step - loss: 0.0347 - accuracy: 0.9883 - val_loss: 0.0558 - val_accuracy: 0.9858\n",
      "Epoch 6/10\n",
      "1688/1688 [==============================] - 7s 4ms/step - loss: 0.0300 - accuracy: 0.9898 - val_loss: 0.0665 - val_accuracy: 0.9805\n",
      "Epoch 7/10\n",
      "1688/1688 [==============================] - 7s 4ms/step - loss: 0.0256 - accuracy: 0.9916 - val_loss: 0.0542 - val_accuracy: 0.9868\n",
      "Epoch 8/10\n",
      "1688/1688 [==============================] - 7s 4ms/step - loss: 0.0216 - accuracy: 0.9924 - val_loss: 0.0564 - val_accuracy: 0.9870\n",
      "Epoch 9/10\n",
      "1688/1688 [==============================] - 7s 4ms/step - loss: 0.0172 - accuracy: 0.9943 - val_loss: 0.0712 - val_accuracy: 0.9810\n",
      "Epoch 10/10\n",
      "1688/1688 [==============================] - 7s 4ms/step - loss: 0.0173 - accuracy: 0.9940 - val_loss: 0.0543 - val_accuracy: 0.9855\n"
     ]
    }
   ],
   "source": [
    "from keras.optimizers import Adam\n",
    "#optimizes the algorithm to attain convergence. changing the learning rate\n",
    "model_keras.compile(\n",
    "    loss=keras.losses.SparseCategoricalCrossentropy(from_logits=True),\n",
    "    optimizer=Adam(learning_rate=1e-3),\n",
    "    metrics=['accuracy'])\n",
    "\n",
    "_ = model_keras.fit(x_train, y_train, epochs=10, validation_split=0.1)"
   ]
  },
  {
   "cell_type": "code",
   "execution_count": 5,
   "metadata": {},
   "outputs": [
    {
     "name": "stderr",
     "output_type": "stream",
     "text": [
      "C:\\Users\\msaad\\AppData\\Roaming\\Python\\Python38\\site-packages\\quantizeml\\models\\quantize.py:449: UserWarning: Quantizing per-axis with random calibration samples is not accurate.                       Set QuantizationParams.per_tensor_activations=True when calibrating with                        random samples.\n",
      "  warnings.warn(\"Quantizing per-axis with random calibration samples is not accurate.\\\n"
     ]
    },
    {
     "name": "stdout",
     "output_type": "stream",
     "text": [
      "1024/1024 [==============================] - 1s 689us/step\n",
      "Model: \"mnistnet\"\n",
      "_________________________________________________________________\n",
      " Layer (type)                Output Shape              Param #   \n",
      "=================================================================\n",
      " rescaling_input (InputLayer  [(None, 28, 28, 1)]      0         \n",
      " )                                                               \n",
      "                                                                 \n",
      " rescaling (QuantizedRescali  (None, 28, 28, 1)        0         \n",
      " ng)                                                             \n",
      "                                                                 \n",
      " conv2d (QuantizedConv2D)    (None, 13, 13, 32)        320       \n",
      "                                                                 \n",
      " re_lu (QuantizedReLU)       (None, 13, 13, 32)        64        \n",
      "                                                                 \n",
      " depthwise_conv2d (Quantized  (None, 7, 7, 32)         384       \n",
      " DepthwiseConv2D)                                                \n",
      "                                                                 \n",
      " conv2d_1 (QuantizedConv2D)  (None, 7, 7, 64)          2112      \n",
      "                                                                 \n",
      " re_lu_1 (QuantizedReLU)     (None, 7, 7, 64)          128       \n",
      "                                                                 \n",
      " flatten (QuantizedFlatten)  (None, 3136)              0         \n",
      "                                                                 \n",
      " dense (QuantizedDense)      (None, 10)                31370     \n",
      "                                                                 \n",
      " dequantizer (Dequantizer)   (None, 10)                0         \n",
      "                                                                 \n",
      "=================================================================\n",
      "Total params: 34,378\n",
      "Trainable params: 34,122\n",
      "Non-trainable params: 256\n",
      "_________________________________________________________________\n"
     ]
    }
   ],
   "source": [
    "from quantizeml.models import quantize, QuantizationParams\n",
    "\n",
    "\n",
    "qparams = QuantizationParams(input_weight_bits=4, weight_bits=4, activation_bits=4)\n",
    "model_quantized = quantize(model_keras, qparams=qparams)\n",
    "model_quantized.summary()"
   ]
  },
  {
   "cell_type": "code",
   "execution_count": null,
   "metadata": {},
   "outputs": [],
   "source": [
    "from quantizeml.models import quantize, QuantizationParams\n",
    "\n",
    "\n",
    "qparams = QuantizationParams(input_weight_bits=8, weight_bits=8, activation_bits=8)\n",
    "model_quantized = quantize(model_keras, qparams=qparams)\n",
    "model_quantized.summary()"
   ]
  },
  {
   "cell_type": "code",
   "execution_count": null,
   "metadata": {},
   "outputs": [],
   "source": [
    "from quantizeml.models import quantize, QuantizationParams\n",
    "\n",
    "\n",
    "qparams = QuantizationParams(input_weight_bits=2, weight_bits=2, activation_bits=2)\n",
    "model_quantized = quantize(model_keras, qparams=qparams)\n",
    "model_quantized.summary()"
   ]
  },
  {
   "cell_type": "code",
   "execution_count": 6,
   "metadata": {},
   "outputs": [
    {
     "name": "stdout",
     "output_type": "stream",
     "text": [
      "Test accuracy after 8-bit quantization: 0.9732000231742859\n"
     ]
    }
   ],
   "source": [
    "def compile_evaluate(model):\n",
    "    \"\"\" Compiles and evaluates the model, then return accuracy score. \"\"\"\n",
    "    model.compile(metrics=['accuracy'])\n",
    "    return model.evaluate(x_test, y_test, verbose=0)[1]\n",
    "\n",
    "\n",
    "print('Test accuracy after 8-bit quantization:', compile_evaluate(model_quantized))"
   ]
  },
  {
   "cell_type": "code",
   "execution_count": 7,
   "metadata": {},
   "outputs": [
    {
     "name": "stdout",
     "output_type": "stream",
     "text": [
      "11/11 [==============================] - 0s 4ms/step\n",
      "11/11 [==============================] - 0s 4ms/step\n",
      "Test accuracy after calibration: 0.9782000184059143\n"
     ]
    }
   ],
   "source": [
    "model_quantized = quantize(model_keras, qparams=qparams,\n",
    "                           samples=x_train, num_samples=1024, batch_size=100, epochs=2)\n",
    "#this is calibration\n",
    "\n",
    "print('Test accuracy after calibration:', compile_evaluate(model_quantized))"
   ]
  },
  {
   "cell_type": "code",
   "execution_count": 11,
   "metadata": {},
   "outputs": [
    {
     "name": "stdout",
     "output_type": "stream",
     "text": [
      "WARNING:tensorflow:5 out of the last 5 calls to <function NonTrackVariable.set_var at 0x000002780A4103A0> triggered tf.function retracing. Tracing is expensive and the excessive number of tracings could be due to (1) creating @tf.function repeatedly in a loop, (2) passing tensors with different shapes, (3) passing Python objects instead of tensors. For (1), please define your @tf.function outside of the loop. For (2), @tf.function has reduce_retracing=True option that can avoid unnecessary retracing. For (3), please refer to https://www.tensorflow.org/guide/function#controlling_retracing and https://www.tensorflow.org/api_docs/python/tf/function for  more details.\n",
      "WARNING:tensorflow:6 out of the last 6 calls to <function NonTrackVariable.set_var at 0x000002787F60D040> triggered tf.function retracing. Tracing is expensive and the excessive number of tracings could be due to (1) creating @tf.function repeatedly in a loop, (2) passing tensors with different shapes, (3) passing Python objects instead of tensors. For (1), please define your @tf.function outside of the loop. For (2), @tf.function has reduce_retracing=True option that can avoid unnecessary retracing. For (3), please refer to https://www.tensorflow.org/guide/function#controlling_retracing and https://www.tensorflow.org/api_docs/python/tf/function for  more details.\n",
      "                Model Summary                 \n",
      "______________________________________________\n",
      "Input shape  Output shape  Sequences  Layers\n",
      "==============================================\n",
      "[28, 28, 1]  [1, 1, 10]    1          5     \n",
      "______________________________________________\n",
      "\n",
      "__________________________________________________________________\n",
      "Layer (type)                        Output shape  Kernel shape  \n",
      "\n",
      "=============== SW/conv2d-dequantizer_1 (Software) ===============\n",
      "\n",
      "conv2d (InputConv2D)                [13, 13, 32]  (3, 3, 1, 32) \n",
      "__________________________________________________________________\n",
      "depthwise_conv2d (DepthwiseConv2D)  [7, 7, 32]    (3, 3, 32, 1) \n",
      "__________________________________________________________________\n",
      "conv2d_1 (Conv2D)                   [7, 7, 64]    (1, 1, 32, 64)\n",
      "__________________________________________________________________\n",
      "dense (Dense2D)                     [1, 1, 10]    (3136, 10)    \n",
      "__________________________________________________________________\n",
      "dequantizer_1 (Dequantizer)         [1, 1, 10]    N/A           \n",
      "__________________________________________________________________\n"
     ]
    }
   ],
   "source": [
    "from cnn2snn import convert\n",
    "\n",
    "model_akida = convert(model_quantized)\n",
    "model_akida.summary()"
   ]
  },
  {
   "cell_type": "code",
   "execution_count": 17,
   "metadata": {},
   "outputs": [],
   "source": [
    "import time\n",
    "class Timer:\n",
    "    def __init__(self):\n",
    "        self.start_time = None\n",
    "        self.end_time = None\n",
    "\n",
    "    def start(self):\n",
    "        self.start_time = time.perf_counter()\n",
    "\n",
    "    def stop(self):\n",
    "        self.end_time = time.perf_counter()\n",
    "        return self.end_time - self.start_time"
   ]
  },
  {
   "cell_type": "code",
   "execution_count": 18,
   "metadata": {},
   "outputs": [
    {
     "name": "stdout",
     "output_type": "stream",
     "text": [
      "Prediction took 0.0004 seconds\n",
      "Input Label: 7\n"
     ]
    },
    {
     "data": {
      "image/png": "[encoded data removed]",
      "text/plain": [
       "<Figure size 640x480 with 2 Axes>"
      ]
     },
     "metadata": {},
     "output_type": "display_data"
    },
    {
     "name": "stdout",
     "output_type": "stream",
     "text": [
      "[ -7.0917134   -4.5075      -1.9511931   -0.08526181  -8.772125\n",
      "  -3.7957418  -13.7638855    5.897206    -4.3806286   -0.36917958]\n"
     ]
    }
   ],
   "source": [
    "\n",
    "# Test a single example\n",
    "sample_image = 0\n",
    "image = x_test[sample_image]\n",
    "timer = Timer()\n",
    "timer.start()\n",
    "outputs = model_akida.predict(image.reshape(1, 28, 28, 1))\n",
    "prediction_time = timer.stop()\n",
    "\n",
    "print(f\"Prediction took {prediction_time:.4f} seconds\")\n",
    "print('Input Label: %i' % y_test[sample_image])\n",
    "\n",
    "f, axarr = plt.subplots(1, 2)\n",
    "axarr[0].imshow(x_test[sample_image].reshape((28, 28)), cmap=cm.Greys_r)\n",
    "axarr[0].set_title('Class %d' % y_test[sample_image])\n",
    "axarr[1].bar(range(10), outputs.squeeze())\n",
    "axarr[1].set_xticks(range(10))\n",
    "plt.show()\n",
    "\n",
    "print(outputs.squeeze())"
   ]
  },
  {
   "cell_type": "code",
   "execution_count": null,
   "metadata": {},
   "outputs": [],
   "source": []
  }
 ],
 "metadata": {
  "kernelspec": {
   "display_name": "Dissertation_Environment2",
   "language": "python",
   "name": "python3"
  },
  "language_info": {
   "codemirror_mode": {
    "name": "ipython",
    "version": 3
   },
   "file_extension": ".py",
   "mimetype": "text/x-python",
   "name": "python",
   "nbconvert_exporter": "python",
   "pygments_lexer": "ipython3",
   "version": "3.8.19"
  }
 },
 "nbformat": 4,
 "nbformat_minor": 2
}
